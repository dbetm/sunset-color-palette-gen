{
 "cells": [
  {
   "cell_type": "code",
   "execution_count": null,
   "metadata": {},
   "outputs": [],
   "source": [
    "!pip install requests"
   ]
  },
  {
   "cell_type": "markdown",
   "metadata": {},
   "source": [
    "API Docs: https://developer.twitter.com/en/docs/twitter-api/tweets/search/api-reference/get-tweets-search-recent\n",
    "\n",
    "Example using Python: https://github.com/twitterdev/Twitter-API-v2-sample-code/blob/main/Recent-Search/recent_search.py\n",
    "\n"
   ]
  },
  {
   "cell_type": "code",
   "execution_count": 1,
   "metadata": {},
   "outputs": [],
   "source": [
    "import os\n",
    "import json\n",
    "from typing import Callable\n",
    "\n",
    "import requests"
   ]
  },
  {
   "cell_type": "code",
   "execution_count": 27,
   "metadata": {},
   "outputs": [],
   "source": [
    "import pandas as pd"
   ]
  },
  {
   "cell_type": "code",
   "execution_count": 2,
   "metadata": {},
   "outputs": [],
   "source": [
    "SEARCH_URL = \"https://api.twitter.com/2/tweets/search/recent\"\n",
    "BEARER_TOKEN = \"<bearer token>\""
   ]
  },
  {
   "cell_type": "markdown",
   "metadata": {},
   "source": [
    "## Auth"
   ]
  },
  {
   "cell_type": "code",
   "execution_count": 4,
   "metadata": {},
   "outputs": [],
   "source": [
    "def bearer_oauth(r):\n",
    "    \"\"\"Method required by bearer token authentication.\"\"\"\n",
    "\n",
    "    r.headers[\"Authorization\"] = f\"Bearer {BEARER_TOKEN}\"\n",
    "    r.headers[\"User-Agent\"] = \"v2RecentSearchPython\"\n",
    "    return r"
   ]
  },
  {
   "cell_type": "markdown",
   "metadata": {},
   "source": [
    "## Search recent tweets"
   ]
  },
  {
   "cell_type": "code",
   "execution_count": 18,
   "metadata": {},
   "outputs": [],
   "source": [
    "def build_params() -> dict:\n",
    "    return {\n",
    "        \"query\": \"(atardecer OR sunset OR #sunset) has:images\",\n",
    "        \"media.fields\": \"type,url,media_key\",\n",
    "        \"expansions\": \"attachments.media_keys\",\n",
    "    }"
   ]
  },
  {
   "cell_type": "code",
   "execution_count": 6,
   "metadata": {},
   "outputs": [],
   "source": [
    "def connect_to_endpoint(url: str, params: dict, auth_fn: Callable):\n",
    "    response = requests.get(url, auth=auth_fn, params=params)\n",
    "    print(response.status_code)\n",
    "    if response.status_code != 200:\n",
    "        raise Exception(response.status_code, response.text)\n",
    "    return response.json()"
   ]
  },
  {
   "cell_type": "code",
   "execution_count": null,
   "metadata": {},
   "outputs": [],
   "source": [
    "response = connect_to_endpoint(\n",
    "    url=SEARCH_URL, params=build_params(), auth_fn=bearer_oauth\n",
    ")"
   ]
  },
  {
   "cell_type": "code",
   "execution_count": null,
   "metadata": {},
   "outputs": [],
   "source": [
    "print(json.dumps(response, indent=4, sort_keys=True))"
   ]
  },
  {
   "cell_type": "code",
   "execution_count": 31,
   "metadata": {},
   "outputs": [],
   "source": [
    "def extract_data_from_response(raw_data: dict) -> pd.DataFrame:\n",
    "    data = list()\n",
    "\n",
    "    for item in raw_data[\"includes\"][\"media\"]:\n",
    "        if item[\"type\"] != \"photo\":\n",
    "            continue\n",
    "\n",
    "        data.append([item[\"media_key\"], item[\"type\"], item[\"url\"]])\n",
    "\n",
    "    return pd.DataFrame(data, columns=[\"media_key\", \"type\", \"url\"])"
   ]
  },
  {
   "cell_type": "code",
   "execution_count": 32,
   "metadata": {},
   "outputs": [],
   "source": [
    "df = extract_data_from_response(response)"
   ]
  },
  {
   "cell_type": "code",
   "execution_count": 33,
   "metadata": {},
   "outputs": [
    {
     "data": {
      "text/html": [
       "<div>\n",
       "<style scoped>\n",
       "    .dataframe tbody tr th:only-of-type {\n",
       "        vertical-align: middle;\n",
       "    }\n",
       "\n",
       "    .dataframe tbody tr th {\n",
       "        vertical-align: top;\n",
       "    }\n",
       "\n",
       "    .dataframe thead th {\n",
       "        text-align: right;\n",
       "    }\n",
       "</style>\n",
       "<table border=\"1\" class=\"dataframe\">\n",
       "  <thead>\n",
       "    <tr style=\"text-align: right;\">\n",
       "      <th></th>\n",
       "      <th>media_key</th>\n",
       "      <th>type</th>\n",
       "      <th>url</th>\n",
       "    </tr>\n",
       "  </thead>\n",
       "  <tbody>\n",
       "    <tr>\n",
       "      <th>0</th>\n",
       "      <td>3_1569841358705131523</td>\n",
       "      <td>photo</td>\n",
       "      <td>https://pbs.twimg.com/media/FckyZftWAAMCP8t.jpg</td>\n",
       "    </tr>\n",
       "    <tr>\n",
       "      <th>1</th>\n",
       "      <td>3_1568602867203809281</td>\n",
       "      <td>photo</td>\n",
       "      <td>https://pbs.twimg.com/media/FcTL_zVXoAEIvAT.png</td>\n",
       "    </tr>\n",
       "    <tr>\n",
       "      <th>2</th>\n",
       "      <td>3_1569651228770205696</td>\n",
       "      <td>photo</td>\n",
       "      <td>https://pbs.twimg.com/media/FciFeegagAABt9-.jpg</td>\n",
       "    </tr>\n",
       "    <tr>\n",
       "      <th>3</th>\n",
       "      <td>3_1569841617770536960</td>\n",
       "      <td>photo</td>\n",
       "      <td>https://pbs.twimg.com/media/FckyokzWYAAHF3H.jpg</td>\n",
       "    </tr>\n",
       "    <tr>\n",
       "      <th>4</th>\n",
       "      <td>3_1569841612162752512</td>\n",
       "      <td>photo</td>\n",
       "      <td>https://pbs.twimg.com/media/FckyoP6WYAAE5fC.jpg</td>\n",
       "    </tr>\n",
       "    <tr>\n",
       "      <th>5</th>\n",
       "      <td>3_1569749465136775169</td>\n",
       "      <td>photo</td>\n",
       "      <td>https://pbs.twimg.com/media/Fcje0lfWQAELndG.jpg</td>\n",
       "    </tr>\n",
       "    <tr>\n",
       "      <th>6</th>\n",
       "      <td>3_1569841568072220673</td>\n",
       "      <td>photo</td>\n",
       "      <td>https://pbs.twimg.com/media/FckylrqWQAEzyhO.jpg</td>\n",
       "    </tr>\n",
       "  </tbody>\n",
       "</table>\n",
       "</div>"
      ],
      "text/plain": [
       "               media_key   type  \\\n",
       "0  3_1569841358705131523  photo   \n",
       "1  3_1568602867203809281  photo   \n",
       "2  3_1569651228770205696  photo   \n",
       "3  3_1569841617770536960  photo   \n",
       "4  3_1569841612162752512  photo   \n",
       "5  3_1569749465136775169  photo   \n",
       "6  3_1569841568072220673  photo   \n",
       "\n",
       "                                               url  \n",
       "0  https://pbs.twimg.com/media/FckyZftWAAMCP8t.jpg  \n",
       "1  https://pbs.twimg.com/media/FcTL_zVXoAEIvAT.png  \n",
       "2  https://pbs.twimg.com/media/FciFeegagAABt9-.jpg  \n",
       "3  https://pbs.twimg.com/media/FckyokzWYAAHF3H.jpg  \n",
       "4  https://pbs.twimg.com/media/FckyoP6WYAAE5fC.jpg  \n",
       "5  https://pbs.twimg.com/media/Fcje0lfWQAELndG.jpg  \n",
       "6  https://pbs.twimg.com/media/FckylrqWQAEzyhO.jpg  "
      ]
     },
     "execution_count": 33,
     "metadata": {},
     "output_type": "execute_result"
    }
   ],
   "source": [
    "df"
   ]
  },
  {
   "cell_type": "code",
   "execution_count": 35,
   "metadata": {},
   "outputs": [],
   "source": [
    "for idx, row in df.iterrows():\n",
    "    r = requests.get(row[\"url\"], stream=True)\n",
    "\n",
    "    if r.status_code == 200:\n",
    "        with open(f\"example_{idx}.png\", \"wb\") as f:\n",
    "            f.write(r.content)"
   ]
  }
 ],
 "metadata": {
  "interpreter": {
   "hash": "186fd525937d0f540ffcbba3344ebf7b7b2262928bbf951f046815621d9f7db4"
  },
  "kernelspec": {
   "display_name": "Python 3.8.13 ('venv': venv)",
   "language": "python",
   "name": "python3"
  },
  "language_info": {
   "codemirror_mode": {
    "name": "ipython",
    "version": 3
   },
   "file_extension": ".py",
   "mimetype": "text/x-python",
   "name": "python",
   "nbconvert_exporter": "python",
   "pygments_lexer": "ipython3",
   "version": "3.8.13"
  },
  "orig_nbformat": 4
 },
 "nbformat": 4,
 "nbformat_minor": 2
}
