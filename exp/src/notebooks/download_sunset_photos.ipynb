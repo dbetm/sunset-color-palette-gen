{
  "cells": [
    {
      "cell_type": "code",
      "execution_count": 1,
      "metadata": {
        "id": "uNvFNcN_mOXn"
      },
      "outputs": [],
      "source": [
        "import time\n",
        "\n",
        "import requests"
      ]
    },
    {
      "cell_type": "code",
      "execution_count": 2,
      "metadata": {
        "id": "M9nbSIsXmOXt"
      },
      "outputs": [],
      "source": [
        "import pandas as pd"
      ]
    },
    {
      "cell_type": "code",
      "source": [
        "from google.colab import drive\n",
        "\n",
        "drive.mount('/content/drive')"
      ],
      "metadata": {
        "id": "fOPLBJ6dnYJY",
        "outputId": "e55d863c-464e-4dbb-c0b0-20db3232f3a8",
        "colab": {
          "base_uri": "https://localhost:8080/"
        }
      },
      "execution_count": 3,
      "outputs": [
        {
          "output_type": "stream",
          "name": "stdout",
          "text": [
            "Mounted at /content/drive\n"
          ]
        }
      ]
    },
    {
      "cell_type": "code",
      "source": [
        "# Change dir\n",
        "%cd drive/MyDrive/STEM/Flymoon\\ labs/projects/sunset\\ color\\ palette\\ -\\ september\\ 2022/\n",
        "%ls"
      ],
      "metadata": {
        "id": "EP0FMSiunnG-",
        "outputId": "9f0e1137-3a92-4237-c348-1cf2985c16d7",
        "colab": {
          "base_uri": "https://localhost:8080/"
        }
      },
      "execution_count": 4,
      "outputs": [
        {
          "output_type": "stream",
          "name": "stdout",
          "text": [
            "/content/drive/MyDrive/STEM/Flymoon labs/projects/sunset color palette - september 2022\n",
            "'Git GitHub workflow.gdoc'\n",
            "'Implementation roadmap - sunset color palette.gdoc'\n",
            "'Research - sunset color palette.gdoc'\n",
            " tweets_with_images_data_up_to_17_sept.csv\n",
            " \u001b[0m\u001b[01;34mtwitter-sunset-dataset\u001b[0m/\n"
          ]
        }
      ]
    },
    {
      "cell_type": "code",
      "execution_count": 8,
      "metadata": {
        "id": "Z8ZZ9QxhmOXu"
      },
      "outputs": [],
      "source": [
        "ALL_DATA_FILE_PATH = \"tweets_with_images_data_up_to_17_sept.csv\"\n",
        "DATASET_PATH = \"twitter-sunset-dataset\""
      ]
    },
    {
      "cell_type": "code",
      "execution_count": 6,
      "metadata": {
        "id": "q1wnpIUEmOXv",
        "outputId": "0447a756-46c4-4cbe-cbce-76db7c68c0c2",
        "colab": {
          "base_uri": "https://localhost:8080/",
          "height": 424
        }
      },
      "outputs": [
        {
          "output_type": "execute_result",
          "data": {
            "text/plain": [
              "     index              media_key   type  \\\n",
              "0        0  3_1570503347152486400  photo   \n",
              "1        1  3_1571298500519907332  photo   \n",
              "2        2  3_1571615114951802894  photo   \n",
              "3        3  3_1571560989912440834  photo   \n",
              "4        4  3_1570582030483705858  photo   \n",
              "..     ...                    ...    ...   \n",
              "121     77  3_1570399545292464128  photo   \n",
              "122     78  3_1570585664768327680  photo   \n",
              "123     79  3_1570553018889691137  photo   \n",
              "124     80  3_1570443276792270848  photo   \n",
              "125     81  3_1570350296995430401  photo   \n",
              "\n",
              "                                                 url  \n",
              "0    https://pbs.twimg.com/media/FcuMeS2WAAAS4e4.jpg  \n",
              "1    https://pbs.twimg.com/media/Fc5fqT-X0AQq5tb.jpg  \n",
              "2    https://pbs.twimg.com/media/Fc9_nspWQA47YB0.jpg  \n",
              "3    https://pbs.twimg.com/media/Fc9OZNKXoAIor7b.jpg  \n",
              "4    https://pbs.twimg.com/media/FcvUCRGX0AI3LRn.jpg  \n",
              "..                                               ...  \n",
              "121  https://pbs.twimg.com/media/FcsuEOyXoAAzSoO.jpg  \n",
              "122  https://pbs.twimg.com/media/FcvXVz3WQAANnTD.jpg  \n",
              "123  https://pbs.twimg.com/media/Fcu5pkfWYAEHkNz.jpg  \n",
              "124  https://pbs.twimg.com/media/FctV1vUakAAsTiW.jpg  \n",
              "125  https://pbs.twimg.com/media/FcsBRmlXgAEsZRC.jpg  \n",
              "\n",
              "[126 rows x 4 columns]"
            ],
            "text/html": [
              "\n",
              "  <div id=\"df-6035d206-7051-4e04-aaa3-673b0ecdc30e\">\n",
              "    <div class=\"colab-df-container\">\n",
              "      <div>\n",
              "<style scoped>\n",
              "    .dataframe tbody tr th:only-of-type {\n",
              "        vertical-align: middle;\n",
              "    }\n",
              "\n",
              "    .dataframe tbody tr th {\n",
              "        vertical-align: top;\n",
              "    }\n",
              "\n",
              "    .dataframe thead th {\n",
              "        text-align: right;\n",
              "    }\n",
              "</style>\n",
              "<table border=\"1\" class=\"dataframe\">\n",
              "  <thead>\n",
              "    <tr style=\"text-align: right;\">\n",
              "      <th></th>\n",
              "      <th>index</th>\n",
              "      <th>media_key</th>\n",
              "      <th>type</th>\n",
              "      <th>url</th>\n",
              "    </tr>\n",
              "  </thead>\n",
              "  <tbody>\n",
              "    <tr>\n",
              "      <th>0</th>\n",
              "      <td>0</td>\n",
              "      <td>3_1570503347152486400</td>\n",
              "      <td>photo</td>\n",
              "      <td>https://pbs.twimg.com/media/FcuMeS2WAAAS4e4.jpg</td>\n",
              "    </tr>\n",
              "    <tr>\n",
              "      <th>1</th>\n",
              "      <td>1</td>\n",
              "      <td>3_1571298500519907332</td>\n",
              "      <td>photo</td>\n",
              "      <td>https://pbs.twimg.com/media/Fc5fqT-X0AQq5tb.jpg</td>\n",
              "    </tr>\n",
              "    <tr>\n",
              "      <th>2</th>\n",
              "      <td>2</td>\n",
              "      <td>3_1571615114951802894</td>\n",
              "      <td>photo</td>\n",
              "      <td>https://pbs.twimg.com/media/Fc9_nspWQA47YB0.jpg</td>\n",
              "    </tr>\n",
              "    <tr>\n",
              "      <th>3</th>\n",
              "      <td>3</td>\n",
              "      <td>3_1571560989912440834</td>\n",
              "      <td>photo</td>\n",
              "      <td>https://pbs.twimg.com/media/Fc9OZNKXoAIor7b.jpg</td>\n",
              "    </tr>\n",
              "    <tr>\n",
              "      <th>4</th>\n",
              "      <td>4</td>\n",
              "      <td>3_1570582030483705858</td>\n",
              "      <td>photo</td>\n",
              "      <td>https://pbs.twimg.com/media/FcvUCRGX0AI3LRn.jpg</td>\n",
              "    </tr>\n",
              "    <tr>\n",
              "      <th>...</th>\n",
              "      <td>...</td>\n",
              "      <td>...</td>\n",
              "      <td>...</td>\n",
              "      <td>...</td>\n",
              "    </tr>\n",
              "    <tr>\n",
              "      <th>121</th>\n",
              "      <td>77</td>\n",
              "      <td>3_1570399545292464128</td>\n",
              "      <td>photo</td>\n",
              "      <td>https://pbs.twimg.com/media/FcsuEOyXoAAzSoO.jpg</td>\n",
              "    </tr>\n",
              "    <tr>\n",
              "      <th>122</th>\n",
              "      <td>78</td>\n",
              "      <td>3_1570585664768327680</td>\n",
              "      <td>photo</td>\n",
              "      <td>https://pbs.twimg.com/media/FcvXVz3WQAANnTD.jpg</td>\n",
              "    </tr>\n",
              "    <tr>\n",
              "      <th>123</th>\n",
              "      <td>79</td>\n",
              "      <td>3_1570553018889691137</td>\n",
              "      <td>photo</td>\n",
              "      <td>https://pbs.twimg.com/media/Fcu5pkfWYAEHkNz.jpg</td>\n",
              "    </tr>\n",
              "    <tr>\n",
              "      <th>124</th>\n",
              "      <td>80</td>\n",
              "      <td>3_1570443276792270848</td>\n",
              "      <td>photo</td>\n",
              "      <td>https://pbs.twimg.com/media/FctV1vUakAAsTiW.jpg</td>\n",
              "    </tr>\n",
              "    <tr>\n",
              "      <th>125</th>\n",
              "      <td>81</td>\n",
              "      <td>3_1570350296995430401</td>\n",
              "      <td>photo</td>\n",
              "      <td>https://pbs.twimg.com/media/FcsBRmlXgAEsZRC.jpg</td>\n",
              "    </tr>\n",
              "  </tbody>\n",
              "</table>\n",
              "<p>126 rows × 4 columns</p>\n",
              "</div>\n",
              "      <button class=\"colab-df-convert\" onclick=\"convertToInteractive('df-6035d206-7051-4e04-aaa3-673b0ecdc30e')\"\n",
              "              title=\"Convert this dataframe to an interactive table.\"\n",
              "              style=\"display:none;\">\n",
              "        \n",
              "  <svg xmlns=\"http://www.w3.org/2000/svg\" height=\"24px\"viewBox=\"0 0 24 24\"\n",
              "       width=\"24px\">\n",
              "    <path d=\"M0 0h24v24H0V0z\" fill=\"none\"/>\n",
              "    <path d=\"M18.56 5.44l.94 2.06.94-2.06 2.06-.94-2.06-.94-.94-2.06-.94 2.06-2.06.94zm-11 1L8.5 8.5l.94-2.06 2.06-.94-2.06-.94L8.5 2.5l-.94 2.06-2.06.94zm10 10l.94 2.06.94-2.06 2.06-.94-2.06-.94-.94-2.06-.94 2.06-2.06.94z\"/><path d=\"M17.41 7.96l-1.37-1.37c-.4-.4-.92-.59-1.43-.59-.52 0-1.04.2-1.43.59L10.3 9.45l-7.72 7.72c-.78.78-.78 2.05 0 2.83L4 21.41c.39.39.9.59 1.41.59.51 0 1.02-.2 1.41-.59l7.78-7.78 2.81-2.81c.8-.78.8-2.07 0-2.86zM5.41 20L4 18.59l7.72-7.72 1.47 1.35L5.41 20z\"/>\n",
              "  </svg>\n",
              "      </button>\n",
              "      \n",
              "  <style>\n",
              "    .colab-df-container {\n",
              "      display:flex;\n",
              "      flex-wrap:wrap;\n",
              "      gap: 12px;\n",
              "    }\n",
              "\n",
              "    .colab-df-convert {\n",
              "      background-color: #E8F0FE;\n",
              "      border: none;\n",
              "      border-radius: 50%;\n",
              "      cursor: pointer;\n",
              "      display: none;\n",
              "      fill: #1967D2;\n",
              "      height: 32px;\n",
              "      padding: 0 0 0 0;\n",
              "      width: 32px;\n",
              "    }\n",
              "\n",
              "    .colab-df-convert:hover {\n",
              "      background-color: #E2EBFA;\n",
              "      box-shadow: 0px 1px 2px rgba(60, 64, 67, 0.3), 0px 1px 3px 1px rgba(60, 64, 67, 0.15);\n",
              "      fill: #174EA6;\n",
              "    }\n",
              "\n",
              "    [theme=dark] .colab-df-convert {\n",
              "      background-color: #3B4455;\n",
              "      fill: #D2E3FC;\n",
              "    }\n",
              "\n",
              "    [theme=dark] .colab-df-convert:hover {\n",
              "      background-color: #434B5C;\n",
              "      box-shadow: 0px 1px 3px 1px rgba(0, 0, 0, 0.15);\n",
              "      filter: drop-shadow(0px 1px 2px rgba(0, 0, 0, 0.3));\n",
              "      fill: #FFFFFF;\n",
              "    }\n",
              "  </style>\n",
              "\n",
              "      <script>\n",
              "        const buttonEl =\n",
              "          document.querySelector('#df-6035d206-7051-4e04-aaa3-673b0ecdc30e button.colab-df-convert');\n",
              "        buttonEl.style.display =\n",
              "          google.colab.kernel.accessAllowed ? 'block' : 'none';\n",
              "\n",
              "        async function convertToInteractive(key) {\n",
              "          const element = document.querySelector('#df-6035d206-7051-4e04-aaa3-673b0ecdc30e');\n",
              "          const dataTable =\n",
              "            await google.colab.kernel.invokeFunction('convertToInteractive',\n",
              "                                                     [key], {});\n",
              "          if (!dataTable) return;\n",
              "\n",
              "          const docLinkHtml = 'Like what you see? Visit the ' +\n",
              "            '<a target=\"_blank\" href=https://colab.research.google.com/notebooks/data_table.ipynb>data table notebook</a>'\n",
              "            + ' to learn more about interactive tables.';\n",
              "          element.innerHTML = '';\n",
              "          dataTable['output_type'] = 'display_data';\n",
              "          await google.colab.output.renderOutput(dataTable, element);\n",
              "          const docLink = document.createElement('div');\n",
              "          docLink.innerHTML = docLinkHtml;\n",
              "          element.appendChild(docLink);\n",
              "        }\n",
              "      </script>\n",
              "    </div>\n",
              "  </div>\n",
              "  "
            ]
          },
          "metadata": {},
          "execution_count": 6
        }
      ],
      "source": [
        "df = pd.read_csv(ALL_DATA_FILE_PATH)\n",
        "df"
      ]
    },
    {
      "cell_type": "code",
      "execution_count": 9,
      "metadata": {
        "id": "_5lC55C6mOXx",
        "outputId": "c8915654-e651-4d3a-b403-c5036d1fa8d1",
        "colab": {
          "base_uri": "https://localhost:8080/"
        }
      },
      "outputs": [
        {
          "output_type": "stream",
          "name": "stdout",
          "text": [
            "0\n"
          ]
        }
      ],
      "source": [
        "for idx, row in df.iterrows():\n",
        "    r = requests.get(row[\"url\"], stream=True)\n",
        "\n",
        "    print(idx)\n",
        "\n",
        "    if r.status_code == 200:\n",
        "        with open(f\"{DATASET_PATH}/{idx}.png\", \"wb\") as f:\n",
        "            f.write(r.content)\n",
        "    \n",
        "    break # lock"
      ]
    }
  ],
  "metadata": {
    "interpreter": {
      "hash": "186fd525937d0f540ffcbba3344ebf7b7b2262928bbf951f046815621d9f7db4"
    },
    "kernelspec": {
      "display_name": "Python 3.8.13 ('venv': venv)",
      "language": "python",
      "name": "python3"
    },
    "language_info": {
      "codemirror_mode": {
        "name": "ipython",
        "version": 3
      },
      "file_extension": ".py",
      "mimetype": "text/x-python",
      "name": "python",
      "nbconvert_exporter": "python",
      "pygments_lexer": "ipython3",
      "version": "3.8.13"
    },
    "orig_nbformat": 4,
    "colab": {
      "provenance": []
    }
  },
  "nbformat": 4,
  "nbformat_minor": 0
}