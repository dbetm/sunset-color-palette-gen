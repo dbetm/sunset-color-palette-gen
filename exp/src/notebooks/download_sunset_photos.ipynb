{
  "cells": [
    {
      "cell_type": "code",
      "execution_count": 1,
      "metadata": {
        "id": "uNvFNcN_mOXn"
      },
      "outputs": [],
      "source": [
        "import time\n",
        "\n",
        "import requests"
      ]
    },
    {
      "cell_type": "code",
      "execution_count": 2,
      "metadata": {
        "id": "M9nbSIsXmOXt"
      },
      "outputs": [],
      "source": [
        "import pandas as pd"
      ]
    },
    {
      "cell_type": "code",
      "execution_count": 3,
      "metadata": {
        "colab": {
          "base_uri": "https://localhost:8080/"
        },
        "id": "fOPLBJ6dnYJY",
        "outputId": "e55d863c-464e-4dbb-c0b0-20db3232f3a8"
      },
      "outputs": [
        {
          "name": "stdout",
          "output_type": "stream",
          "text": [
            "Mounted at /content/drive\n"
          ]
        }
      ],
      "source": [
        "from google.colab import drive\n",
        "\n",
        "drive.mount('/content/drive')"
      ]
    },
    {
      "cell_type": "code",
      "execution_count": 4,
      "metadata": {
        "colab": {
          "base_uri": "https://localhost:8080/"
        },
        "id": "EP0FMSiunnG-",
        "outputId": "9f0e1137-3a92-4237-c348-1cf2985c16d7"
      },
      "outputs": [
        {
          "name": "stdout",
          "output_type": "stream",
          "text": [
            "/content/drive/MyDrive/STEM/Flymoon labs/projects/sunset color palette - september 2022\n",
            "'Git GitHub workflow.gdoc'\n",
            "'Implementation roadmap - sunset color palette.gdoc'\n",
            "'Research - sunset color palette.gdoc'\n",
            " tweets_with_images_data_up_to_17_sept.csv\n",
            " \u001b[0m\u001b[01;34mtwitter-sunset-dataset\u001b[0m/\n"
          ]
        }
      ],
      "source": [
        "# Change dir\n",
        "%cd drive/MyDrive/STEM/Flymoon\\ labs/projects/sunset\\ color\\ palette\\ -\\ september\\ 2022/\n",
        "%ls"
      ]
    },
    {
      "cell_type": "code",
      "execution_count": 8,
      "metadata": {
        "id": "Z8ZZ9QxhmOXu"
      },
      "outputs": [],
      "source": [
        "ALL_DATA_FILE_PATH = \"tweets_with_images_data_up_to_17_sept.csv\"\n",
        "DATASET_PATH = \"twitter-sunset-dataset\""
      ]
    },
    {
      "cell_type": "code",
      "execution_count": null,
      "metadata": {
        "colab": {
          "base_uri": "https://localhost:8080/",
          "height": 424
        },
        "id": "q1wnpIUEmOXv",
        "outputId": "0447a756-46c4-4cbe-cbce-76db7c68c0c2"
      },
      "outputs": [],
      "source": [
        "df = pd.read_csv(ALL_DATA_FILE_PATH)\n",
        "df"
      ]
    },
    {
      "cell_type": "code",
      "execution_count": 9,
      "metadata": {
        "colab": {
          "base_uri": "https://localhost:8080/"
        },
        "id": "_5lC55C6mOXx",
        "outputId": "c8915654-e651-4d3a-b403-c5036d1fa8d1"
      },
      "outputs": [
        {
          "name": "stdout",
          "output_type": "stream",
          "text": [
            "0\n"
          ]
        }
      ],
      "source": [
        "for idx, row in df.iterrows():\n",
        "    r = requests.get(row[\"url\"], stream=True)\n",
        "\n",
        "    print(idx)\n",
        "\n",
        "    if r.status_code == 200:\n",
        "        with open(f\"{DATASET_PATH}/{idx}.png\", \"wb\") as f:\n",
        "            f.write(r.content)\n",
        "    \n",
        "    break # lock"
      ]
    }
  ],
  "metadata": {
    "colab": {
      "provenance": []
    },
    "interpreter": {
      "hash": "186fd525937d0f540ffcbba3344ebf7b7b2262928bbf951f046815621d9f7db4"
    },
    "kernelspec": {
      "display_name": "Python 3.8.13 ('venv': venv)",
      "language": "python",
      "name": "python3"
    },
    "language_info": {
      "codemirror_mode": {
        "name": "ipython",
        "version": 3
      },
      "file_extension": ".py",
      "mimetype": "text/x-python",
      "name": "python",
      "nbconvert_exporter": "python",
      "pygments_lexer": "ipython3",
      "version": "3.8.13"
    },
    "orig_nbformat": 4
  },
  "nbformat": 4,
  "nbformat_minor": 0
}
