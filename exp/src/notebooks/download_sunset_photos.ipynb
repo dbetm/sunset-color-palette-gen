{
 "cells": [
  {
   "cell_type": "code",
   "execution_count": 7,
   "metadata": {},
   "outputs": [],
   "source": [
    "import time\n",
    "\n",
    "import requests"
   ]
  },
  {
   "cell_type": "code",
   "execution_count": 2,
   "metadata": {},
   "outputs": [],
   "source": [
    "import pandas as pd"
   ]
  },
  {
   "cell_type": "code",
   "execution_count": 4,
   "metadata": {},
   "outputs": [],
   "source": [
    "ALL_DATA_FILE_PATH = \"all_data_until_15_sept.csv\""
   ]
  },
  {
   "cell_type": "code",
   "execution_count": 5,
   "metadata": {},
   "outputs": [
    {
     "data": {
      "text/html": [
       "<div>\n",
       "<style scoped>\n",
       "    .dataframe tbody tr th:only-of-type {\n",
       "        vertical-align: middle;\n",
       "    }\n",
       "\n",
       "    .dataframe tbody tr th {\n",
       "        vertical-align: top;\n",
       "    }\n",
       "\n",
       "    .dataframe thead th {\n",
       "        text-align: right;\n",
       "    }\n",
       "</style>\n",
       "<table border=\"1\" class=\"dataframe\">\n",
       "  <thead>\n",
       "    <tr style=\"text-align: right;\">\n",
       "      <th></th>\n",
       "      <th>media_key</th>\n",
       "      <th>type</th>\n",
       "      <th>url</th>\n",
       "    </tr>\n",
       "  </thead>\n",
       "  <tbody>\n",
       "    <tr>\n",
       "      <th>0</th>\n",
       "      <td>3_1570585015888609281</td>\n",
       "      <td>photo</td>\n",
       "      <td>https://pbs.twimg.com/media/FcvWwCmXgAEbnri.jpg</td>\n",
       "    </tr>\n",
       "    <tr>\n",
       "      <th>1</th>\n",
       "      <td>3_1570584995974221824</td>\n",
       "      <td>photo</td>\n",
       "      <td>https://pbs.twimg.com/media/FcvWu4aaEAAqvYW.jpg</td>\n",
       "    </tr>\n",
       "    <tr>\n",
       "      <th>2</th>\n",
       "      <td>3_1569457495214522372</td>\n",
       "      <td>photo</td>\n",
       "      <td>https://pbs.twimg.com/media/FcfVRsxWAAQ_Rmz.jpg</td>\n",
       "    </tr>\n",
       "    <tr>\n",
       "      <th>3</th>\n",
       "      <td>3_1570068174669844480</td>\n",
       "      <td>photo</td>\n",
       "      <td>https://pbs.twimg.com/media/FcoAr7BXkAAeNub.jpg</td>\n",
       "    </tr>\n",
       "    <tr>\n",
       "      <th>4</th>\n",
       "      <td>3_1570446210690945029</td>\n",
       "      <td>photo</td>\n",
       "      <td>https://pbs.twimg.com/media/FctYgg8XkAU2SJ9.jpg</td>\n",
       "    </tr>\n",
       "    <tr>\n",
       "      <th>...</th>\n",
       "      <td>...</td>\n",
       "      <td>...</td>\n",
       "      <td>...</td>\n",
       "    </tr>\n",
       "    <tr>\n",
       "      <th>77</th>\n",
       "      <td>3_1570399545292464128</td>\n",
       "      <td>photo</td>\n",
       "      <td>https://pbs.twimg.com/media/FcsuEOyXoAAzSoO.jpg</td>\n",
       "    </tr>\n",
       "    <tr>\n",
       "      <th>78</th>\n",
       "      <td>3_1570585664768327680</td>\n",
       "      <td>photo</td>\n",
       "      <td>https://pbs.twimg.com/media/FcvXVz3WQAANnTD.jpg</td>\n",
       "    </tr>\n",
       "    <tr>\n",
       "      <th>79</th>\n",
       "      <td>3_1570553018889691137</td>\n",
       "      <td>photo</td>\n",
       "      <td>https://pbs.twimg.com/media/Fcu5pkfWYAEHkNz.jpg</td>\n",
       "    </tr>\n",
       "    <tr>\n",
       "      <th>80</th>\n",
       "      <td>3_1570443276792270848</td>\n",
       "      <td>photo</td>\n",
       "      <td>https://pbs.twimg.com/media/FctV1vUakAAsTiW.jpg</td>\n",
       "    </tr>\n",
       "    <tr>\n",
       "      <th>81</th>\n",
       "      <td>3_1570350296995430401</td>\n",
       "      <td>photo</td>\n",
       "      <td>https://pbs.twimg.com/media/FcsBRmlXgAEsZRC.jpg</td>\n",
       "    </tr>\n",
       "  </tbody>\n",
       "</table>\n",
       "<p>82 rows × 3 columns</p>\n",
       "</div>"
      ],
      "text/plain": [
       "                media_key   type  \\\n",
       "0   3_1570585015888609281  photo   \n",
       "1   3_1570584995974221824  photo   \n",
       "2   3_1569457495214522372  photo   \n",
       "3   3_1570068174669844480  photo   \n",
       "4   3_1570446210690945029  photo   \n",
       "..                    ...    ...   \n",
       "77  3_1570399545292464128  photo   \n",
       "78  3_1570585664768327680  photo   \n",
       "79  3_1570553018889691137  photo   \n",
       "80  3_1570443276792270848  photo   \n",
       "81  3_1570350296995430401  photo   \n",
       "\n",
       "                                                url  \n",
       "0   https://pbs.twimg.com/media/FcvWwCmXgAEbnri.jpg  \n",
       "1   https://pbs.twimg.com/media/FcvWu4aaEAAqvYW.jpg  \n",
       "2   https://pbs.twimg.com/media/FcfVRsxWAAQ_Rmz.jpg  \n",
       "3   https://pbs.twimg.com/media/FcoAr7BXkAAeNub.jpg  \n",
       "4   https://pbs.twimg.com/media/FctYgg8XkAU2SJ9.jpg  \n",
       "..                                              ...  \n",
       "77  https://pbs.twimg.com/media/FcsuEOyXoAAzSoO.jpg  \n",
       "78  https://pbs.twimg.com/media/FcvXVz3WQAANnTD.jpg  \n",
       "79  https://pbs.twimg.com/media/Fcu5pkfWYAEHkNz.jpg  \n",
       "80  https://pbs.twimg.com/media/FctV1vUakAAsTiW.jpg  \n",
       "81  https://pbs.twimg.com/media/FcsBRmlXgAEsZRC.jpg  \n",
       "\n",
       "[82 rows x 3 columns]"
      ]
     },
     "execution_count": 5,
     "metadata": {},
     "output_type": "execute_result"
    }
   ],
   "source": [
    "df = pd.read_csv(ALL_DATA_FILE_PATH)\n",
    "df"
   ]
  },
  {
   "cell_type": "code",
   "execution_count": 8,
   "metadata": {},
   "outputs": [
    {
     "name": "stdout",
     "output_type": "stream",
     "text": [
      "0 media_key                              3_1570585015888609281\n",
      "type                                                   photo\n",
      "url          https://pbs.twimg.com/media/FcvWwCmXgAEbnri.jpg\n",
      "Name: 0, dtype: object\n"
     ]
    }
   ],
   "source": [
    "for idx, row in df.iterrows():\n",
    "    r = requests.get(row[\"url\"], stream=True)\n",
    "\n",
    "    print(idx, row)\n",
    "\n",
    "    if r.status_code == 200:\n",
    "        with open(f\"example_{idx}.png\", \"wb\") as f:\n",
    "            f.write(r.content)\n",
    "    \n",
    "    break # lock"
   ]
  }
 ],
 "metadata": {
  "interpreter": {
   "hash": "186fd525937d0f540ffcbba3344ebf7b7b2262928bbf951f046815621d9f7db4"
  },
  "kernelspec": {
   "display_name": "Python 3.8.13 ('venv': venv)",
   "language": "python",
   "name": "python3"
  },
  "language_info": {
   "codemirror_mode": {
    "name": "ipython",
    "version": 3
   },
   "file_extension": ".py",
   "mimetype": "text/x-python",
   "name": "python",
   "nbconvert_exporter": "python",
   "pygments_lexer": "ipython3",
   "version": "3.8.13"
  },
  "orig_nbformat": 4
 },
 "nbformat": 4,
 "nbformat_minor": 2
}
